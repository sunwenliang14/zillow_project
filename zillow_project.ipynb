{
 "cells": [
  {
   "cell_type": "code",
   "execution_count": 1,
   "metadata": {},
   "outputs": [],
   "source": [
    "import numpy as np\n",
    "import pandas as pd\n",
    "import matplotlib.pyplot as plt\n",
    "import seaborn as sns\n",
    "from env import get_db_url"
   ]
  },
  {
   "cell_type": "markdown",
   "metadata": {},
   "source": [
    "## Acquire"
   ]
  },
  {
   "cell_type": "code",
   "execution_count": 2,
   "metadata": {},
   "outputs": [
    {
     "data": {
      "text/html": [
       "<div>\n",
       "<style scoped>\n",
       "    .dataframe tbody tr th:only-of-type {\n",
       "        vertical-align: middle;\n",
       "    }\n",
       "\n",
       "    .dataframe tbody tr th {\n",
       "        vertical-align: top;\n",
       "    }\n",
       "\n",
       "    .dataframe thead th {\n",
       "        text-align: right;\n",
       "    }\n",
       "</style>\n",
       "<table border=\"1\" class=\"dataframe\">\n",
       "  <thead>\n",
       "    <tr style=\"text-align: right;\">\n",
       "      <th></th>\n",
       "      <th>bathroomcnt</th>\n",
       "      <th>bedroomcnt</th>\n",
       "      <th>sqft</th>\n",
       "      <th>tax_value</th>\n",
       "      <th>fips</th>\n",
       "      <th>taxamount</th>\n",
       "    </tr>\n",
       "  </thead>\n",
       "  <tbody>\n",
       "    <tr>\n",
       "      <th>0</th>\n",
       "      <td>2.0</td>\n",
       "      <td>4.0</td>\n",
       "      <td>1604.0</td>\n",
       "      <td>498347.0</td>\n",
       "      <td>6037.0</td>\n",
       "      <td>6089.82</td>\n",
       "    </tr>\n",
       "    <tr>\n",
       "      <th>1</th>\n",
       "      <td>3.0</td>\n",
       "      <td>3.0</td>\n",
       "      <td>2384.0</td>\n",
       "      <td>549917.0</td>\n",
       "      <td>6037.0</td>\n",
       "      <td>6679.55</td>\n",
       "    </tr>\n",
       "    <tr>\n",
       "      <th>2</th>\n",
       "      <td>2.0</td>\n",
       "      <td>3.0</td>\n",
       "      <td>1574.0</td>\n",
       "      <td>235272.0</td>\n",
       "      <td>6037.0</td>\n",
       "      <td>3876.31</td>\n",
       "    </tr>\n",
       "  </tbody>\n",
       "</table>\n",
       "</div>"
      ],
      "text/plain": [
       "   bathroomcnt  bedroomcnt    sqft  tax_value    fips  taxamount\n",
       "0          2.0         4.0  1604.0   498347.0  6037.0    6089.82\n",
       "1          3.0         3.0  2384.0   549917.0  6037.0    6679.55\n",
       "2          2.0         3.0  1574.0   235272.0  6037.0    3876.31"
      ]
     },
     "execution_count": 2,
     "metadata": {},
     "output_type": "execute_result"
    }
   ],
   "source": [
    "query = \"\"\"\n",
    "SELECT  bathroomcnt, bedroomcnt, calculatedfinishedsquarefeet AS sqft, taxvaluedollarcnt AS tax_value, fips,taxamount \n",
    "FROM properties_2017\n",
    "JOIN predictions_2017 USING (id)\n",
    "JOIN propertylandusetype USING (propertylandusetypeid)\n",
    "WHERE (transactiondate  >='2017-05-01' AND transactiondate <= '2017-06-30') AND propertylandusetypeid = '261'\n",
    "AND taxvaluedollarcnt <= 1000000;\n",
    "\"\"\"\n",
    "df = pd.read_sql(query, get_db_url(\"zillow\"))\n",
    "df.head(3)"
   ]
  },
  {
   "cell_type": "code",
   "execution_count": 3,
   "metadata": {
    "scrolled": true
   },
   "outputs": [
    {
     "data": {
      "text/plain": [
       "bathroomcnt    float64\n",
       "bedroomcnt     float64\n",
       "sqft           float64\n",
       "tax_value      float64\n",
       "fips           float64\n",
       "taxamount      float64\n",
       "dtype: object"
      ]
     },
     "execution_count": 3,
     "metadata": {},
     "output_type": "execute_result"
    }
   ],
   "source": [
    "df.dtypes"
   ]
  },
  {
   "cell_type": "code",
   "execution_count": 4,
   "metadata": {},
   "outputs": [
    {
     "name": "stdout",
     "output_type": "stream",
     "text": [
      "<class 'pandas.core.frame.DataFrame'>\n",
      "RangeIndex: 14860 entries, 0 to 14859\n",
      "Data columns (total 6 columns):\n",
      "bathroomcnt    14860 non-null float64\n",
      "bedroomcnt     14860 non-null float64\n",
      "sqft           14828 non-null float64\n",
      "tax_value      14860 non-null float64\n",
      "fips           14860 non-null float64\n",
      "taxamount      14828 non-null float64\n",
      "dtypes: float64(6)\n",
      "memory usage: 696.7 KB\n"
     ]
    }
   ],
   "source": [
    "df.info()"
   ]
  },
  {
   "cell_type": "markdown",
   "metadata": {},
   "source": [
    "## Prep"
   ]
  },
  {
   "cell_type": "code",
   "execution_count": 5,
   "metadata": {},
   "outputs": [],
   "source": [
    "df = df.dropna()"
   ]
  },
  {
   "cell_type": "code",
   "execution_count": 6,
   "metadata": {
    "scrolled": true
   },
   "outputs": [
    {
     "name": "stdout",
     "output_type": "stream",
     "text": [
      "<class 'pandas.core.frame.DataFrame'>\n",
      "Int64Index: 14802 entries, 0 to 14859\n",
      "Data columns (total 6 columns):\n",
      "bathroomcnt    14802 non-null float64\n",
      "bedroomcnt     14802 non-null float64\n",
      "sqft           14802 non-null float64\n",
      "tax_value      14802 non-null float64\n",
      "fips           14802 non-null float64\n",
      "taxamount      14802 non-null float64\n",
      "dtypes: float64(6)\n",
      "memory usage: 809.5 KB\n"
     ]
    }
   ],
   "source": [
    "df.info()"
   ]
  },
  {
   "cell_type": "code",
   "execution_count": 7,
   "metadata": {
    "scrolled": true
   },
   "outputs": [
    {
     "data": {
      "text/plain": [
       "6037.0    11512\n",
       "6059.0     2533\n",
       "6111.0      757\n",
       "Name: fips, dtype: int64"
      ]
     },
     "execution_count": 7,
     "metadata": {},
     "output_type": "execute_result"
    }
   ],
   "source": [
    "df.fips.value_counts()"
   ]
  },
  {
   "cell_type": "code",
   "execution_count": 8,
   "metadata": {
    "scrolled": true
   },
   "outputs": [
    {
     "data": {
      "text/html": [
       "<div>\n",
       "<style scoped>\n",
       "    .dataframe tbody tr th:only-of-type {\n",
       "        vertical-align: middle;\n",
       "    }\n",
       "\n",
       "    .dataframe tbody tr th {\n",
       "        vertical-align: top;\n",
       "    }\n",
       "\n",
       "    .dataframe thead th {\n",
       "        text-align: right;\n",
       "    }\n",
       "</style>\n",
       "<table border=\"1\" class=\"dataframe\">\n",
       "  <thead>\n",
       "    <tr style=\"text-align: right;\">\n",
       "      <th></th>\n",
       "      <th>bathroomcnt</th>\n",
       "      <th>bedroomcnt</th>\n",
       "      <th>sqft</th>\n",
       "      <th>tax_value</th>\n",
       "      <th>fips</th>\n",
       "      <th>taxamount</th>\n",
       "    </tr>\n",
       "  </thead>\n",
       "  <tbody>\n",
       "    <tr>\n",
       "      <th>0</th>\n",
       "      <td>2.0</td>\n",
       "      <td>4.0</td>\n",
       "      <td>1604.0</td>\n",
       "      <td>498347.0</td>\n",
       "      <td>6037.0</td>\n",
       "      <td>6089.82</td>\n",
       "    </tr>\n",
       "    <tr>\n",
       "      <th>1</th>\n",
       "      <td>3.0</td>\n",
       "      <td>3.0</td>\n",
       "      <td>2384.0</td>\n",
       "      <td>549917.0</td>\n",
       "      <td>6037.0</td>\n",
       "      <td>6679.55</td>\n",
       "    </tr>\n",
       "    <tr>\n",
       "      <th>2</th>\n",
       "      <td>2.0</td>\n",
       "      <td>3.0</td>\n",
       "      <td>1574.0</td>\n",
       "      <td>235272.0</td>\n",
       "      <td>6037.0</td>\n",
       "      <td>3876.31</td>\n",
       "    </tr>\n",
       "  </tbody>\n",
       "</table>\n",
       "</div>"
      ],
      "text/plain": [
       "   bathroomcnt  bedroomcnt    sqft  tax_value    fips  taxamount\n",
       "0          2.0         4.0  1604.0   498347.0  6037.0    6089.82\n",
       "1          3.0         3.0  2384.0   549917.0  6037.0    6679.55\n",
       "2          2.0         3.0  1574.0   235272.0  6037.0    3876.31"
      ]
     },
     "execution_count": 8,
     "metadata": {},
     "output_type": "execute_result"
    }
   ],
   "source": [
    "df.head(3)"
   ]
  },
  {
   "cell_type": "code",
   "execution_count": 10,
   "metadata": {
    "scrolled": false
   },
   "outputs": [
    {
     "data": {
      "text/html": [
       "<div>\n",
       "<style scoped>\n",
       "    .dataframe tbody tr th:only-of-type {\n",
       "        vertical-align: middle;\n",
       "    }\n",
       "\n",
       "    .dataframe tbody tr th {\n",
       "        vertical-align: top;\n",
       "    }\n",
       "\n",
       "    .dataframe thead th {\n",
       "        text-align: right;\n",
       "    }\n",
       "</style>\n",
       "<table border=\"1\" class=\"dataframe\">\n",
       "  <thead>\n",
       "    <tr style=\"text-align: right;\">\n",
       "      <th></th>\n",
       "      <th>bathroomcnt</th>\n",
       "      <th>bedroomcnt</th>\n",
       "      <th>sqft</th>\n",
       "      <th>tax_value</th>\n",
       "      <th>fips</th>\n",
       "      <th>taxamount</th>\n",
       "      <th>tax_rate</th>\n",
       "    </tr>\n",
       "  </thead>\n",
       "  <tbody>\n",
       "    <tr>\n",
       "      <th>0</th>\n",
       "      <td>2.0</td>\n",
       "      <td>4.0</td>\n",
       "      <td>1604.0</td>\n",
       "      <td>498347.0</td>\n",
       "      <td>6037.0</td>\n",
       "      <td>6089.82</td>\n",
       "      <td>0.012220</td>\n",
       "    </tr>\n",
       "    <tr>\n",
       "      <th>1</th>\n",
       "      <td>3.0</td>\n",
       "      <td>3.0</td>\n",
       "      <td>2384.0</td>\n",
       "      <td>549917.0</td>\n",
       "      <td>6037.0</td>\n",
       "      <td>6679.55</td>\n",
       "      <td>0.012146</td>\n",
       "    </tr>\n",
       "    <tr>\n",
       "      <th>2</th>\n",
       "      <td>2.0</td>\n",
       "      <td>3.0</td>\n",
       "      <td>1574.0</td>\n",
       "      <td>235272.0</td>\n",
       "      <td>6037.0</td>\n",
       "      <td>3876.31</td>\n",
       "      <td>0.016476</td>\n",
       "    </tr>\n",
       "    <tr>\n",
       "      <th>3</th>\n",
       "      <td>2.0</td>\n",
       "      <td>2.0</td>\n",
       "      <td>1619.0</td>\n",
       "      <td>340000.0</td>\n",
       "      <td>6037.0</td>\n",
       "      <td>4206.15</td>\n",
       "      <td>0.012371</td>\n",
       "    </tr>\n",
       "    <tr>\n",
       "      <th>4</th>\n",
       "      <td>2.0</td>\n",
       "      <td>4.0</td>\n",
       "      <td>1721.0</td>\n",
       "      <td>629951.0</td>\n",
       "      <td>6037.0</td>\n",
       "      <td>6861.51</td>\n",
       "      <td>0.010892</td>\n",
       "    </tr>\n",
       "  </tbody>\n",
       "</table>\n",
       "</div>"
      ],
      "text/plain": [
       "   bathroomcnt  bedroomcnt    sqft  tax_value    fips  taxamount  tax_rate\n",
       "0          2.0         4.0  1604.0   498347.0  6037.0    6089.82  0.012220\n",
       "1          3.0         3.0  2384.0   549917.0  6037.0    6679.55  0.012146\n",
       "2          2.0         3.0  1574.0   235272.0  6037.0    3876.31  0.016476\n",
       "3          2.0         2.0  1619.0   340000.0  6037.0    4206.15  0.012371\n",
       "4          2.0         4.0  1721.0   629951.0  6037.0    6861.51  0.010892"
      ]
     },
     "execution_count": 10,
     "metadata": {},
     "output_type": "execute_result"
    }
   ],
   "source": [
    "df['tax_rate'] = df.taxamount / df.tax_value\n",
    "df.head()"
   ]
  },
  {
   "cell_type": "markdown",
   "metadata": {},
   "source": [
    "## States and counties of the single unit properties located at\n",
    "- By using Federal Information Processing Standards(fips) provided in the data, I found a link through google:\n",
    "- https://www.nrcs.usda.gov/wps/portal/nrcs/detail/?cid=nrcs143_013697, in where it can be found that: \n",
    "- fips 6037 is correponding to Los Angeles county, CA\n",
    "- fips 6059 is correponding to Orange county, CA\n",
    "- fips 6111 is correponding to Ventura county, CA\n",
    "- All of the three counties are located in the state of California."
   ]
  },
  {
   "cell_type": "code",
   "execution_count": 11,
   "metadata": {},
   "outputs": [],
   "source": [
    "LA = df[df['fips'] == 6037]\n",
    "Orange = df[df['fips'] == 6059]\n",
    "Ventura = df[df['fips'] == 6111]"
   ]
  },
  {
   "cell_type": "code",
   "execution_count": 12,
   "metadata": {},
   "outputs": [
    {
     "data": {
      "image/png": "[encoded data removed]",
      "text/plain": [
       "<Figure size 1152x1152 with 3 Axes>"
      ]
     },
     "metadata": {
      "needs_background": "light"
     },
     "output_type": "display_data"
    }
   ],
   "source": [
    "plt.figure(figsize=(16, 16))\n",
    "plt.suptitle('Distribution of Tax Rates by County', fontsize=15)\n",
    "\n",
    "plt.subplot(331)\n",
    "sns.distplot(LA.tax_rate)\n",
    "plt.xlim(0, .03)\n",
    "plt.ylim(0, 600)\n",
    "plt.title('Los Angeles County')\n",
    "\n",
    "plt.subplot(332)\n",
    "sns.distplot(Orange.tax_rate,)\n",
    "plt.xlim(0, .03)\n",
    "plt.ylim(0, 600)\n",
    "plt.title('Orange County')\n",
    "\n",
    "plt.subplot(333)\n",
    "sns.distplot(Ventura.tax_rate,)\n",
    "plt.xlim(0, .03)\n",
    "plt.ylim(0, 600)\n",
    "plt.title('Ventura County')\n",
    "plt.show()"
   ]
  },
  {
   "cell_type": "code",
   "execution_count": 13,
   "metadata": {
    "scrolled": true
   },
   "outputs": [],
   "source": [
    "import split_scale"
   ]
  },
  {
   "cell_type": "code",
   "execution_count": 14,
   "metadata": {},
   "outputs": [],
   "source": [
    "df = df[['bathroomcnt','bedroomcnt','sqft', 'tax_value']]"
   ]
  },
  {
   "cell_type": "code",
   "execution_count": 15,
   "metadata": {},
   "outputs": [],
   "source": [
    "train, test = split_scale.split_my_data(df)"
   ]
  },
  {
   "cell_type": "code",
   "execution_count": 16,
   "metadata": {
    "scrolled": false
   },
   "outputs": [
    {
     "data": {
      "text/html": [
       "<div>\n",
       "<style scoped>\n",
       "    .dataframe tbody tr th:only-of-type {\n",
       "        vertical-align: middle;\n",
       "    }\n",
       "\n",
       "    .dataframe tbody tr th {\n",
       "        vertical-align: top;\n",
       "    }\n",
       "\n",
       "    .dataframe thead th {\n",
       "        text-align: right;\n",
       "    }\n",
       "</style>\n",
       "<table border=\"1\" class=\"dataframe\">\n",
       "  <thead>\n",
       "    <tr style=\"text-align: right;\">\n",
       "      <th></th>\n",
       "      <th>bathroomcnt</th>\n",
       "      <th>bedroomcnt</th>\n",
       "      <th>sqft</th>\n",
       "      <th>tax_value</th>\n",
       "    </tr>\n",
       "  </thead>\n",
       "  <tbody>\n",
       "    <tr>\n",
       "      <th>5986</th>\n",
       "      <td>3.0</td>\n",
       "      <td>4.0</td>\n",
       "      <td>1960.0</td>\n",
       "      <td>229658.0</td>\n",
       "    </tr>\n",
       "    <tr>\n",
       "      <th>12828</th>\n",
       "      <td>1.0</td>\n",
       "      <td>3.0</td>\n",
       "      <td>961.0</td>\n",
       "      <td>202311.0</td>\n",
       "    </tr>\n",
       "    <tr>\n",
       "      <th>11807</th>\n",
       "      <td>1.0</td>\n",
       "      <td>2.0</td>\n",
       "      <td>690.0</td>\n",
       "      <td>692643.0</td>\n",
       "    </tr>\n",
       "    <tr>\n",
       "      <th>11208</th>\n",
       "      <td>3.0</td>\n",
       "      <td>4.0</td>\n",
       "      <td>2162.0</td>\n",
       "      <td>224000.0</td>\n",
       "    </tr>\n",
       "    <tr>\n",
       "      <th>10030</th>\n",
       "      <td>2.0</td>\n",
       "      <td>4.0</td>\n",
       "      <td>1470.0</td>\n",
       "      <td>678186.0</td>\n",
       "    </tr>\n",
       "  </tbody>\n",
       "</table>\n",
       "</div>"
      ],
      "text/plain": [
       "       bathroomcnt  bedroomcnt    sqft  tax_value\n",
       "5986           3.0         4.0  1960.0   229658.0\n",
       "12828          1.0         3.0   961.0   202311.0\n",
       "11807          1.0         2.0   690.0   692643.0\n",
       "11208          3.0         4.0  2162.0   224000.0\n",
       "10030          2.0         4.0  1470.0   678186.0"
      ]
     },
     "execution_count": 16,
     "metadata": {},
     "output_type": "execute_result"
    }
   ],
   "source": [
    "train.head()"
   ]
  },
  {
   "cell_type": "code",
   "execution_count": 17,
   "metadata": {},
   "outputs": [
    {
     "data": {
      "text/html": [
       "<div>\n",
       "<style scoped>\n",
       "    .dataframe tbody tr th:only-of-type {\n",
       "        vertical-align: middle;\n",
       "    }\n",
       "\n",
       "    .dataframe tbody tr th {\n",
       "        vertical-align: top;\n",
       "    }\n",
       "\n",
       "    .dataframe thead th {\n",
       "        text-align: right;\n",
       "    }\n",
       "</style>\n",
       "<table border=\"1\" class=\"dataframe\">\n",
       "  <thead>\n",
       "    <tr style=\"text-align: right;\">\n",
       "      <th></th>\n",
       "      <th>bathroomcnt</th>\n",
       "      <th>bedroomcnt</th>\n",
       "      <th>sqft</th>\n",
       "      <th>tax_value</th>\n",
       "    </tr>\n",
       "  </thead>\n",
       "  <tbody>\n",
       "    <tr>\n",
       "      <th>count</th>\n",
       "      <td>11841.000000</td>\n",
       "      <td>11841.000000</td>\n",
       "      <td>11841.000000</td>\n",
       "      <td>11841.000000</td>\n",
       "    </tr>\n",
       "    <tr>\n",
       "      <th>mean</th>\n",
       "      <td>2.073854</td>\n",
       "      <td>3.181404</td>\n",
       "      <td>1688.616586</td>\n",
       "      <td>339286.722659</td>\n",
       "    </tr>\n",
       "    <tr>\n",
       "      <th>std</th>\n",
       "      <td>0.821387</td>\n",
       "      <td>0.903837</td>\n",
       "      <td>684.381184</td>\n",
       "      <td>220503.057234</td>\n",
       "    </tr>\n",
       "    <tr>\n",
       "      <th>min</th>\n",
       "      <td>0.000000</td>\n",
       "      <td>0.000000</td>\n",
       "      <td>60.000000</td>\n",
       "      <td>5302.000000</td>\n",
       "    </tr>\n",
       "    <tr>\n",
       "      <th>25%</th>\n",
       "      <td>2.000000</td>\n",
       "      <td>3.000000</td>\n",
       "      <td>1211.000000</td>\n",
       "      <td>169935.000000</td>\n",
       "    </tr>\n",
       "    <tr>\n",
       "      <th>50%</th>\n",
       "      <td>2.000000</td>\n",
       "      <td>3.000000</td>\n",
       "      <td>1544.000000</td>\n",
       "      <td>296064.000000</td>\n",
       "    </tr>\n",
       "    <tr>\n",
       "      <th>75%</th>\n",
       "      <td>2.500000</td>\n",
       "      <td>4.000000</td>\n",
       "      <td>2017.000000</td>\n",
       "      <td>463419.000000</td>\n",
       "    </tr>\n",
       "    <tr>\n",
       "      <th>max</th>\n",
       "      <td>7.000000</td>\n",
       "      <td>9.000000</td>\n",
       "      <td>9200.000000</td>\n",
       "      <td>1000000.000000</td>\n",
       "    </tr>\n",
       "  </tbody>\n",
       "</table>\n",
       "</div>"
      ],
      "text/plain": [
       "        bathroomcnt    bedroomcnt          sqft       tax_value\n",
       "count  11841.000000  11841.000000  11841.000000    11841.000000\n",
       "mean       2.073854      3.181404   1688.616586   339286.722659\n",
       "std        0.821387      0.903837    684.381184   220503.057234\n",
       "min        0.000000      0.000000     60.000000     5302.000000\n",
       "25%        2.000000      3.000000   1211.000000   169935.000000\n",
       "50%        2.000000      3.000000   1544.000000   296064.000000\n",
       "75%        2.500000      4.000000   2017.000000   463419.000000\n",
       "max        7.000000      9.000000   9200.000000  1000000.000000"
      ]
     },
     "execution_count": 17,
     "metadata": {},
     "output_type": "execute_result"
    }
   ],
   "source": [
    "train.describe()"
   ]
  },
  {
   "cell_type": "code",
   "execution_count": 18,
   "metadata": {},
   "outputs": [],
   "source": [
    "scaler, train, test = split_scale.standard_scaler(train, test)"
   ]
  },
  {
   "cell_type": "code",
   "execution_count": 19,
   "metadata": {
    "scrolled": false
   },
   "outputs": [
    {
     "data": {
      "text/html": [
       "<div>\n",
       "<style scoped>\n",
       "    .dataframe tbody tr th:only-of-type {\n",
       "        vertical-align: middle;\n",
       "    }\n",
       "\n",
       "    .dataframe tbody tr th {\n",
       "        vertical-align: top;\n",
       "    }\n",
       "\n",
       "    .dataframe thead th {\n",
       "        text-align: right;\n",
       "    }\n",
       "</style>\n",
       "<table border=\"1\" class=\"dataframe\">\n",
       "  <thead>\n",
       "    <tr style=\"text-align: right;\">\n",
       "      <th></th>\n",
       "      <th>bathroomcnt</th>\n",
       "      <th>bedroomcnt</th>\n",
       "      <th>sqft</th>\n",
       "      <th>tax_value</th>\n",
       "    </tr>\n",
       "  </thead>\n",
       "  <tbody>\n",
       "    <tr>\n",
       "      <th>5986</th>\n",
       "      <td>1.127588</td>\n",
       "      <td>0.905729</td>\n",
       "      <td>0.396555</td>\n",
       "      <td>-0.497197</td>\n",
       "    </tr>\n",
       "    <tr>\n",
       "      <th>12828</th>\n",
       "      <td>-1.307422</td>\n",
       "      <td>-0.200712</td>\n",
       "      <td>-1.063219</td>\n",
       "      <td>-0.621223</td>\n",
       "    </tr>\n",
       "    <tr>\n",
       "      <th>11807</th>\n",
       "      <td>-1.307422</td>\n",
       "      <td>-1.307153</td>\n",
       "      <td>-1.459214</td>\n",
       "      <td>1.602568</td>\n",
       "    </tr>\n",
       "  </tbody>\n",
       "</table>\n",
       "</div>"
      ],
      "text/plain": [
       "       bathroomcnt  bedroomcnt      sqft  tax_value\n",
       "5986      1.127588    0.905729  0.396555  -0.497197\n",
       "12828    -1.307422   -0.200712 -1.063219  -0.621223\n",
       "11807    -1.307422   -1.307153 -1.459214   1.602568"
      ]
     },
     "execution_count": 19,
     "metadata": {},
     "output_type": "execute_result"
    }
   ],
   "source": [
    "train.head(3)"
   ]
  },
  {
   "cell_type": "code",
   "execution_count": 20,
   "metadata": {},
   "outputs": [
    {
     "data": {
      "image/png": "[encoded data removed]",
      "text/plain": [
       "<Figure size 720x720 with 20 Axes>"
      ]
     },
     "metadata": {
      "needs_background": "light"
     },
     "output_type": "display_data"
    }
   ],
   "source": [
    "sns.pairplot(df, kind=\"reg\")\n",
    "plt.show()"
   ]
  },
  {
   "cell_type": "markdown",
   "metadata": {},
   "source": [
    "# Exploration"
   ]
  },
  {
   "cell_type": "code",
   "execution_count": 21,
   "metadata": {},
   "outputs": [
    {
     "data": {
      "text/plain": [
       "(0, 4)"
      ]
     },
     "execution_count": 21,
     "metadata": {},
     "output_type": "execute_result"
    },
    {
     "data": {
      "image/png": "[encoded data removed]",
      "text/plain": [
       "<Figure size 576x432 with 2 Axes>"
      ]
     },
     "metadata": {
      "needs_background": "light"
     },
     "output_type": "display_data"
    }
   ],
   "source": [
    "plt.figure(figsize=(8,6))\n",
    "sns.heatmap(train.corr(), cmap='Blues', annot=True)\n",
    "plt.ylim(0, 4)"
   ]
  },
  {
   "cell_type": "markdown",
   "metadata": {},
   "source": [
    "### Correlation Test\n",
    "\n",
    "$H_0$: There is no linear relationship between sqft and tax_value.\n",
    "\n",
    "$H_a$: There is a linear relationship between sqft and tax_value."
   ]
  },
  {
   "cell_type": "code",
   "execution_count": 22,
   "metadata": {},
   "outputs": [],
   "source": [
    "from math import sqrt\n",
    "from scipy import stats"
   ]
  },
  {
   "cell_type": "code",
   "execution_count": 23,
   "metadata": {},
   "outputs": [
    {
     "data": {
      "text/plain": [
       "(0.47302490043214185, 0.0)"
      ]
     },
     "execution_count": 23,
     "metadata": {},
     "output_type": "execute_result"
    }
   ],
   "source": [
    "alpha = 0.01\n",
    "r, p = stats.pearsonr(train.sqft, train.tax_value)\n",
    "r, p"
   ]
  },
  {
   "cell_type": "code",
   "execution_count": 24,
   "metadata": {},
   "outputs": [
    {
     "name": "stdout",
     "output_type": "stream",
     "text": [
      "Reject the null hypothesis\n"
     ]
    }
   ],
   "source": [
    "if p < alpha:\n",
    "    print(\"Reject the null hypothesis\")\n",
    "else:\n",
    "    print(\"Fail to reject the null\")"
   ]
  },
  {
   "cell_type": "markdown",
   "metadata": {},
   "source": [
    "$H_0$: There is no linear relationship between bathroomcnt and tax_value.\n",
    "\n",
    "$H_a$: There is a linear relationship between bathroomcnt and tax_value."
   ]
  },
  {
   "cell_type": "code",
   "execution_count": 25,
   "metadata": {},
   "outputs": [
    {
     "data": {
      "text/plain": [
       "(0.4031011989652694, 0.0)"
      ]
     },
     "execution_count": 25,
     "metadata": {},
     "output_type": "execute_result"
    }
   ],
   "source": [
    "alpha = 0.01\n",
    "r, p = stats.pearsonr(train.bathroomcnt, train.tax_value)\n",
    "r, p"
   ]
  },
  {
   "cell_type": "markdown",
   "metadata": {},
   "source": [
    "$H_0$: There is no linear relationship between bedroomcnt and tax_value.\n",
    "\n",
    "$H_a$: There is a linear relationship between bedroomcnt and tax_value."
   ]
  },
  {
   "cell_type": "code",
   "execution_count": 26,
   "metadata": {},
   "outputs": [
    {
     "data": {
      "text/plain": [
       "(0.25070392818053844, 3.826869470604966e-169)"
      ]
     },
     "execution_count": 26,
     "metadata": {},
     "output_type": "execute_result"
    }
   ],
   "source": [
    "alpha = 0.01\n",
    "r, p = stats.pearsonr(train.bedroomcnt, train.tax_value)\n",
    "r, p"
   ]
  },
  {
   "cell_type": "markdown",
   "metadata": {},
   "source": [
    "$H_0$: There is no linear relationship between bathroomcnt and sqft.\n",
    "\n",
    "$H_a$: There is a linear relationship between bathroomcnt and sqft."
   ]
  },
  {
   "cell_type": "code",
   "execution_count": 27,
   "metadata": {},
   "outputs": [
    {
     "data": {
      "text/plain": [
       "(0.7907649969357715, 0.0)"
      ]
     },
     "execution_count": 27,
     "metadata": {},
     "output_type": "execute_result"
    }
   ],
   "source": [
    "alpha = 0.01\n",
    "r, p = stats.pearsonr(train.bathroomcnt, train.sqft)\n",
    "r, p"
   ]
  },
  {
   "cell_type": "markdown",
   "metadata": {},
   "source": [
    "$H_0$: There is no linear relationship between bathroomcnt and bedroomcnt.\n",
    "\n",
    "$H_a$: There is a linear relationship between bathroomcnt and bedroomcnt."
   ]
  },
  {
   "cell_type": "code",
   "execution_count": 28,
   "metadata": {},
   "outputs": [
    {
     "data": {
      "text/plain": [
       "(0.6339995152150681, 0.0)"
      ]
     },
     "execution_count": 28,
     "metadata": {},
     "output_type": "execute_result"
    }
   ],
   "source": [
    "alpha = 0.01\n",
    "r, p = stats.pearsonr(train.bathroomcnt, train.bedroomcnt)\n",
    "r, p"
   ]
  },
  {
   "cell_type": "markdown",
   "metadata": {},
   "source": [
    "$H_0$: There is no linear relationship between bedroomcnt and sqft.\n",
    "\n",
    "$H_a$: There is a linear relationship between bedroomcnt and sqft."
   ]
  },
  {
   "cell_type": "code",
   "execution_count": 29,
   "metadata": {},
   "outputs": [
    {
     "data": {
      "text/plain": [
       "(0.6261586116589335, 0.0)"
      ]
     },
     "execution_count": 29,
     "metadata": {},
     "output_type": "execute_result"
    }
   ],
   "source": [
    "alpha = 0.01\n",
    "r, p = stats.pearsonr(train.bedroomcnt, train.sqft)\n",
    "r, p"
   ]
  },
  {
   "cell_type": "markdown",
   "metadata": {},
   "source": [
    "## Insights drawn from correlation tests\n",
    "\n",
    "- Among independent variables (bathroomcnt,bedroomcnt,sqft) and dependent variable (tax_value), there is a weak-postive linear relatioship between sqft and tax_value; there is also a weak-positive linear relatioship between bathroomcnt and tax_value; there is a very weak-positive linear relatioship between bedroomcnt and tax_value,\n",
    "\n",
    "- Among independent variables themsleves, there is a strong-postive linear relationship between bathroomcnt and sqft; there is a moderate-postive linear relatioship between bathroomcnt and bedroomcnt; there is also a moderate-postive linear relationship between bedroomcnt and sqft."
   ]
  },
  {
   "cell_type": "markdown",
   "metadata": {},
   "source": [
    "# Modeling"
   ]
  },
  {
   "cell_type": "code",
   "execution_count": 30,
   "metadata": {},
   "outputs": [],
   "source": [
    "from sklearn.metrics import mean_squared_error, explained_variance_score\n",
    "from sklearn.feature_selection import RFE\n",
    "import sklearn.linear_model\n",
    "import warnings\n",
    "warnings.filterwarnings(\"ignore\")\n",
    "import split_scale"
   ]
  },
  {
   "cell_type": "code",
   "execution_count": 31,
   "metadata": {},
   "outputs": [
    {
     "data": {
      "text/html": [
       "<div>\n",
       "<style scoped>\n",
       "    .dataframe tbody tr th:only-of-type {\n",
       "        vertical-align: middle;\n",
       "    }\n",
       "\n",
       "    .dataframe tbody tr th {\n",
       "        vertical-align: top;\n",
       "    }\n",
       "\n",
       "    .dataframe thead th {\n",
       "        text-align: right;\n",
       "    }\n",
       "</style>\n",
       "<table border=\"1\" class=\"dataframe\">\n",
       "  <thead>\n",
       "    <tr style=\"text-align: right;\">\n",
       "      <th></th>\n",
       "      <th>actual_tax_value</th>\n",
       "    </tr>\n",
       "  </thead>\n",
       "  <tbody>\n",
       "    <tr>\n",
       "      <th>5986</th>\n",
       "      <td>-0.497197</td>\n",
       "    </tr>\n",
       "    <tr>\n",
       "      <th>12828</th>\n",
       "      <td>-0.621223</td>\n",
       "    </tr>\n",
       "    <tr>\n",
       "      <th>11807</th>\n",
       "      <td>1.602568</td>\n",
       "    </tr>\n",
       "    <tr>\n",
       "      <th>11208</th>\n",
       "      <td>-0.522857</td>\n",
       "    </tr>\n",
       "    <tr>\n",
       "      <th>10030</th>\n",
       "      <td>1.537002</td>\n",
       "    </tr>\n",
       "  </tbody>\n",
       "</table>\n",
       "</div>"
      ],
      "text/plain": [
       "       actual_tax_value\n",
       "5986          -0.497197\n",
       "12828         -0.621223\n",
       "11807          1.602568\n",
       "11208         -0.522857\n",
       "10030          1.537002"
      ]
     },
     "execution_count": 31,
     "metadata": {},
     "output_type": "execute_result"
    }
   ],
   "source": [
    "predictions = pd.DataFrame({\n",
    "    'actual_tax_value': train.tax_value\n",
    "})\n",
    "predictions.head()"
   ]
  },
  {
   "cell_type": "code",
   "execution_count": 32,
   "metadata": {},
   "outputs": [
    {
     "data": {
      "text/html": [
       "<div>\n",
       "<style scoped>\n",
       "    .dataframe tbody tr th:only-of-type {\n",
       "        vertical-align: middle;\n",
       "    }\n",
       "\n",
       "    .dataframe tbody tr th {\n",
       "        vertical-align: top;\n",
       "    }\n",
       "\n",
       "    .dataframe thead th {\n",
       "        text-align: right;\n",
       "    }\n",
       "</style>\n",
       "<table border=\"1\" class=\"dataframe\">\n",
       "  <thead>\n",
       "    <tr style=\"text-align: right;\">\n",
       "      <th></th>\n",
       "      <th>actual_tax_value</th>\n",
       "      <th>baseline</th>\n",
       "    </tr>\n",
       "  </thead>\n",
       "  <tbody>\n",
       "    <tr>\n",
       "      <th>5986</th>\n",
       "      <td>-0.497197</td>\n",
       "      <td>9.765668e-17</td>\n",
       "    </tr>\n",
       "    <tr>\n",
       "      <th>12828</th>\n",
       "      <td>-0.621223</td>\n",
       "      <td>9.765668e-17</td>\n",
       "    </tr>\n",
       "    <tr>\n",
       "      <th>11807</th>\n",
       "      <td>1.602568</td>\n",
       "      <td>9.765668e-17</td>\n",
       "    </tr>\n",
       "  </tbody>\n",
       "</table>\n",
       "</div>"
      ],
      "text/plain": [
       "       actual_tax_value      baseline\n",
       "5986          -0.497197  9.765668e-17\n",
       "12828         -0.621223  9.765668e-17\n",
       "11807          1.602568  9.765668e-17"
      ]
     },
     "execution_count": 32,
     "metadata": {},
     "output_type": "execute_result"
    }
   ],
   "source": [
    "predictions['baseline'] = predictions.actual_tax_value.mean()\n",
    "predictions.head(3)"
   ]
  },
  {
   "cell_type": "code",
   "execution_count": 33,
   "metadata": {},
   "outputs": [],
   "source": [
    "# model 1\n",
    "X = train[['bathroomcnt']]\n",
    "y = train.tax_value\n",
    "lm1 = sklearn.linear_model.LinearRegression()\n",
    "lm1.fit(X, y)\n",
    "predictions['bath_lm1'] = lm1.predict(X)"
   ]
  },
  {
   "cell_type": "code",
   "execution_count": 34,
   "metadata": {},
   "outputs": [],
   "source": [
    "# model 2\n",
    "X = train[['bedroomcnt']]\n",
    "y = train.tax_value\n",
    "lm2 = sklearn.linear_model.LinearRegression()\n",
    "lm2.fit(X, y)\n",
    "predictions['bed_lm2'] = lm2.predict(X)"
   ]
  },
  {
   "cell_type": "code",
   "execution_count": 35,
   "metadata": {},
   "outputs": [],
   "source": [
    "# model 3\n",
    "X = train[['sqft']]\n",
    "y = train.tax_value\n",
    "lm3 = sklearn.linear_model.LinearRegression()\n",
    "lm3.fit(X, y)\n",
    "predictions['sqft_lm3'] = lm3.predict(X)"
   ]
  },
  {
   "cell_type": "code",
   "execution_count": 36,
   "metadata": {},
   "outputs": [],
   "source": [
    "# model 4\n",
    "X = train[['bedroomcnt','sqft']]\n",
    "y = train.tax_value\n",
    "lm4 = sklearn.linear_model.LinearRegression()\n",
    "lm4.fit(X, y)\n",
    "predictions['bed&sqft_lm4'] = lm4.predict(X)"
   ]
  },
  {
   "cell_type": "code",
   "execution_count": 37,
   "metadata": {},
   "outputs": [],
   "source": [
    "# model 5\n",
    "X = train[['bathroomcnt','sqft']]\n",
    "y = train.tax_value\n",
    "lm5 = sklearn.linear_model.LinearRegression()\n",
    "lm5.fit(X, y)\n",
    "predictions['bath&sqft_lm5'] = lm5.predict(X)"
   ]
  },
  {
   "cell_type": "code",
   "execution_count": 38,
   "metadata": {},
   "outputs": [],
   "source": [
    "# model 6\n",
    "X = train[['bathroomcnt','bedroomcnt']]\n",
    "y = train.tax_value\n",
    "lm6 = sklearn.linear_model.LinearRegression()\n",
    "lm6.fit(X, y)\n",
    "predictions['bath&bed_lm6'] = lm6.predict(X)"
   ]
  },
  {
   "cell_type": "code",
   "execution_count": 39,
   "metadata": {},
   "outputs": [],
   "source": [
    "# model 7\n",
    "X = train[['bathroomcnt','bedroomcnt','sqft']]\n",
    "y = train.tax_value\n",
    "lm7 = sklearn.linear_model.LinearRegression()\n",
    "lm7.fit(X, y)\n",
    "predictions['bath&bed&sqft_lm7'] = lm7.predict(X)"
   ]
  },
  {
   "cell_type": "code",
   "execution_count": 40,
   "metadata": {},
   "outputs": [
    {
     "data": {
      "text/html": [
       "<div>\n",
       "<style scoped>\n",
       "    .dataframe tbody tr th:only-of-type {\n",
       "        vertical-align: middle;\n",
       "    }\n",
       "\n",
       "    .dataframe tbody tr th {\n",
       "        vertical-align: top;\n",
       "    }\n",
       "\n",
       "    .dataframe thead th {\n",
       "        text-align: right;\n",
       "    }\n",
       "</style>\n",
       "<table border=\"1\" class=\"dataframe\">\n",
       "  <thead>\n",
       "    <tr style=\"text-align: right;\">\n",
       "      <th></th>\n",
       "      <th>actual_tax_value</th>\n",
       "      <th>baseline</th>\n",
       "      <th>bath_lm1</th>\n",
       "      <th>bed_lm2</th>\n",
       "      <th>sqft_lm3</th>\n",
       "      <th>bed&amp;sqft_lm4</th>\n",
       "      <th>bath&amp;sqft_lm5</th>\n",
       "      <th>bath&amp;bed_lm6</th>\n",
       "      <th>bath&amp;bed&amp;sqft_lm7</th>\n",
       "    </tr>\n",
       "  </thead>\n",
       "  <tbody>\n",
       "    <tr>\n",
       "      <th>5986</th>\n",
       "      <td>-0.497197</td>\n",
       "      <td>9.765668e-17</td>\n",
       "      <td>0.454532</td>\n",
       "      <td>0.227070</td>\n",
       "      <td>0.187580</td>\n",
       "      <td>0.138392</td>\n",
       "      <td>0.250690</td>\n",
       "      <td>0.452980</td>\n",
       "      <td>0.214728</td>\n",
       "    </tr>\n",
       "    <tr>\n",
       "      <th>12828</th>\n",
       "      <td>-0.621223</td>\n",
       "      <td>9.765668e-17</td>\n",
       "      <td>-0.527023</td>\n",
       "      <td>-0.050319</td>\n",
       "      <td>-0.502929</td>\n",
       "      <td>-0.537723</td>\n",
       "      <td>-0.539110</td>\n",
       "      <td>-0.532130</td>\n",
       "      <td>-0.603598</td>\n",
       "    </tr>\n",
       "    <tr>\n",
       "      <th>11807</th>\n",
       "      <td>1.602568</td>\n",
       "      <td>9.765668e-17</td>\n",
       "      <td>-0.527023</td>\n",
       "      <td>-0.327709</td>\n",
       "      <td>-0.690245</td>\n",
       "      <td>-0.660807</td>\n",
       "      <td>-0.702148</td>\n",
       "      <td>-0.523135</td>\n",
       "      <td>-0.668127</td>\n",
       "    </tr>\n",
       "  </tbody>\n",
       "</table>\n",
       "</div>"
      ],
      "text/plain": [
       "       actual_tax_value      baseline  bath_lm1   bed_lm2  sqft_lm3  \\\n",
       "5986          -0.497197  9.765668e-17  0.454532  0.227070  0.187580   \n",
       "12828         -0.621223  9.765668e-17 -0.527023 -0.050319 -0.502929   \n",
       "11807          1.602568  9.765668e-17 -0.527023 -0.327709 -0.690245   \n",
       "\n",
       "       bed&sqft_lm4  bath&sqft_lm5  bath&bed_lm6  bath&bed&sqft_lm7  \n",
       "5986       0.138392       0.250690      0.452980           0.214728  \n",
       "12828     -0.537723      -0.539110     -0.532130          -0.603598  \n",
       "11807     -0.660807      -0.702148     -0.523135          -0.668127  "
      ]
     },
     "execution_count": 40,
     "metadata": {},
     "output_type": "execute_result"
    }
   ],
   "source": [
    "predictions.head(3)"
   ]
  },
  {
   "cell_type": "code",
   "execution_count": 41,
   "metadata": {
    "scrolled": true
   },
   "outputs": [
    {
     "data": {
      "text/plain": [
       "actual_tax_value     0.000000\n",
       "baseline             1.000000\n",
       "bath_lm1             0.837509\n",
       "bed_lm2              0.937148\n",
       "sqft_lm3             0.776247\n",
       "bed&sqft_lm4         0.772844\n",
       "bath&sqft_lm5        0.773995\n",
       "bath&bed_lm6         0.837470\n",
       "bath&bed&sqft_lm7    0.768309\n",
       "dtype: float64"
      ]
     },
     "execution_count": 41,
     "metadata": {},
     "output_type": "execute_result"
    }
   ],
   "source": [
    "predictions.apply(lambda col: sklearn.metrics.mean_squared_error(predictions.actual_tax_value, col))"
   ]
  },
  {
   "cell_type": "markdown",
   "metadata": {},
   "source": [
    "## Insights drawn from modeling \n",
    "\n",
    "- For three independent variables(bathroomcnt,bedroomcnt,sqft), there are seven possible combinations in total: bathroomcnt, bedroomcnt, sqft, bathroomcnt&bedroomcnt, bathroomcnt&sqft, bedroomcnt&sqft, bathroomcnt&bedroomcnt&sqft.\n",
    "\n",
    "- I built seven models using those seven combinations, then I used a lambda function to calculate the mean_squared_errors for those models, the least mse I got is from model 7, which is the combination of all three independent variables(bathroomcnt&bedroomcnt&sqft).\n",
    "\n",
    "- I regarded this model as the best model, and apply the model into the test data."
   ]
  },
  {
   "cell_type": "markdown",
   "metadata": {},
   "source": [
    "## Test data applied to the best model"
   ]
  },
  {
   "cell_type": "code",
   "execution_count": 42,
   "metadata": {},
   "outputs": [
    {
     "data": {
      "text/plain": [
       "0.7276768446173686"
      ]
     },
     "execution_count": 42,
     "metadata": {},
     "output_type": "execute_result"
    }
   ],
   "source": [
    "# evaluate the best model on the test data set\n",
    "X = train[['bathroomcnt','bedroomcnt','sqft']]\n",
    "y = train.tax_value\n",
    "lm = sklearn.linear_model.LinearRegression()\n",
    "lm.fit(X, y)\n",
    "y_test = test.tax_value\n",
    "y_test_predicted = lm.predict(test[['bathroomcnt','bedroomcnt','sqft']])\n",
    "\n",
    "test_data_mse = sklearn.metrics.mean_squared_error(y_test, y_test_predicted)\n",
    "test_data_mse"
   ]
  },
  {
   "cell_type": "markdown",
   "metadata": {},
   "source": [
    "\n",
    "- I applied the test data into the best model, and got test data's mse 0.7277, which is not too far from train data's mse 0.7683. Therefore, the model with three independent variables(bathroomcnt,bedroomcnt,sqft) combined together is a viable model."
   ]
  },
  {
   "cell_type": "markdown",
   "metadata": {},
   "source": [
    "# Conclusion\n",
    "\n",
    "### After evaluating all possible combinations of independent variables. I decided to choose the model that incorporates all three independent variables as the best model . In addition, without any doubt, the best model performs better than the baseline model."
   ]
  },
  {
   "cell_type": "code",
   "execution_count": null,
   "metadata": {},
   "outputs": [],
   "source": []
  }
 ],
 "metadata": {
  "kernelspec": {
   "display_name": "Python 3",
   "language": "python",
   "name": "python3"
  },
  "language_info": {
   "codemirror_mode": {
    "name": "ipython",
    "version": 3
   },
   "file_extension": ".py",
   "mimetype": "text/x-python",
   "name": "python",
   "nbconvert_exporter": "python",
   "pygments_lexer": "ipython3",
   "version": "3.7.4"
  }
 },
 "nbformat": 4,
 "nbformat_minor": 2
}
